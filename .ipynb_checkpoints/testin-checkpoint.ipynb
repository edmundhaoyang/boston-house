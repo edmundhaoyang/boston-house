{
 "cells": [
  {
   "cell_type": "code",
   "execution_count": 68,
   "metadata": {
    "collapsed": false
   },
   "outputs": [],
   "source": [
    "from math import sin as bullet\n",
    "import numpy as np\n",
    "import pandas as pk\n",
    "from sklearn import metrics"
   ]
  },
  {
   "cell_type": "code",
   "execution_count": 4,
   "metadata": {
    "collapsed": false
   },
   "outputs": [
    {
     "name": "stdout",
     "output_type": "stream",
     "text": [
      "noo\n"
     ]
    }
   ],
   "source": [
    "try:\n",
    "    a=7\n",
    "    b=0\n",
    "    if a/b:\n",
    "     print \"hi\"\n",
    "except:\n",
    "     print \"noo\""
   ]
  },
  {
   "cell_type": "code",
   "execution_count": 5,
   "metadata": {
    "collapsed": false
   },
   "outputs": [
    {
     "data": {
      "text/plain": [
       "key\n",
       "0      1.003073\n",
       "1   -658.286953\n",
       "2   -693.009374\n",
       "3    -89.413421\n",
       "4   -432.640138\n",
       "5   -166.079972\n",
       "6    -58.691367\n",
       "7   -115.859386\n",
       "8     83.671570\n",
       "9     17.844241\n",
       "Name: data, dtype: float64"
      ]
     },
     "execution_count": 5,
     "metadata": {},
     "output_type": "execute_result"
    }
   ],
   "source": [
    "dfs =pk.DataFrame({'A':[\"JI\",\"NGWA\",\"NEBA\",\"CLOUDE\"],\n",
    "                  'B':[7,8,9,0],\n",
    "                  'C' :[00,77,44,22]})\n",
    "N = 1000000\n",
    "ngroups = 10\n",
    "df = pk.DataFrame({'key' : np.random.randint(0,ngroups,size=1000000),\n",
    "                'data' : np.random.randn(N) })\n",
    "df.groupby('key')['data'].sum()"
   ]
  },
  {
   "cell_type": "code",
   "execution_count": 130,
   "metadata": {
    "collapsed": false
   },
   "outputs": [
    {
     "data": {
      "text/html": [
       "<div>\n",
       "<table border=\"1\" class=\"dataframe\">\n",
       "  <thead>\n",
       "    <tr style=\"text-align: right;\">\n",
       "      <th></th>\n",
       "      <th>A</th>\n",
       "      <th>B</th>\n",
       "      <th>C</th>\n",
       "    </tr>\n",
       "  </thead>\n",
       "  <tbody>\n",
       "    <tr>\n",
       "      <th>0</th>\n",
       "      <td>JI</td>\n",
       "      <td>7</td>\n",
       "      <td>0</td>\n",
       "    </tr>\n",
       "    <tr>\n",
       "      <th>1</th>\n",
       "      <td>NGWA</td>\n",
       "      <td>8</td>\n",
       "      <td>77</td>\n",
       "    </tr>\n",
       "    <tr>\n",
       "      <th>2</th>\n",
       "      <td>NEBA</td>\n",
       "      <td>9</td>\n",
       "      <td>44</td>\n",
       "    </tr>\n",
       "  </tbody>\n",
       "</table>\n",
       "</div>"
      ],
      "text/plain": [
       "      A  B   C\n",
       "0    JI  7   0\n",
       "1  NGWA  8  77\n",
       "2  NEBA  9  44"
      ]
     },
     "execution_count": 130,
     "metadata": {},
     "output_type": "execute_result"
    }
   ],
   "source": [
    "#print dfs\n",
    "#pk.DataFrame(dfs)\n",
    "#dfs.reset_index(inplace=True)\n",
    "dfs[:]\n",
    "dfs['B']\n",
    "dfs[['B','C','A'\n",
    "]]\n",
    "dfs['B'].std()\n",
    "dfs[dfs.B>8]\n",
    "dfs[['A','B','C']][dfs.B>2]\n",
    "#dfs.set_index('C',inplace=True)\n",
    "#dfs.loc['44']\n",
    " \n",
    "\n",
    "\n",
    " \n"
   ]
  },
  {
   "cell_type": "code",
   "execution_count": 30,
   "metadata": {
    "collapsed": false
   },
   "outputs": [],
   "source": [
    "import pandas as bull\n",
    "sery=bull.Series([\"WREW\",\"loll\",\"iio\"],\n",
    "                 index=['why','lov',\"upi\"]\n",
    "                 )\n",
    "print sery"
   ]
  },
  {
   "cell_type": "code",
   "execution_count": 40,
   "metadata": {
    "collapsed": false
   },
   "outputs": [],
   "source": [
    "olimpic_medal=bull.DataFrame({'country_name':[\"cameroon\",\"belgium\",\"USA\"], 'gold':[5,6,7], 'silver':[67,45,234], 'bronze':[4444444444,77777777,2222222]})"
   ]
  },
  {
   "cell_type": "code",
   "execution_count": 51,
   "metadata": {
    "collapsed": false
   },
   "outputs": [
    {
     "data": {
      "text/html": [
       "<div>\n",
       "<table border=\"1\" class=\"dataframe\">\n",
       "  <thead>\n",
       "    <tr style=\"text-align: right;\">\n",
       "      <th></th>\n",
       "      <th>country_name</th>\n",
       "      <th>gold</th>\n",
       "      <th>silver</th>\n",
       "      <th>bronze</th>\n",
       "    </tr>\n",
       "  </thead>\n",
       "  <tbody>\n",
       "    <tr>\n",
       "      <th>0</th>\n",
       "      <td>cameroon</td>\n",
       "      <td>5</td>\n",
       "      <td>67</td>\n",
       "      <td>4444444444</td>\n",
       "    </tr>\n",
       "    <tr>\n",
       "      <th>1</th>\n",
       "      <td>belgium</td>\n",
       "      <td>6</td>\n",
       "      <td>45</td>\n",
       "      <td>77777777</td>\n",
       "    </tr>\n",
       "    <tr>\n",
       "      <th>2</th>\n",
       "      <td>USA</td>\n",
       "      <td>7</td>\n",
       "      <td>234</td>\n",
       "      <td>2222222</td>\n",
       "    </tr>\n",
       "  </tbody>\n",
       "</table>\n",
       "</div>"
      ],
      "text/plain": [
       "  country_name  gold  silver      bronze\n",
       "0     cameroon     5      67  4444444444\n",
       "1      belgium     6      45    77777777\n",
       "2          USA     7     234     2222222"
      ]
     },
     "execution_count": 51,
     "metadata": {},
     "output_type": "execute_result"
    }
   ],
   "source": [
    "olimpic_medal.head()\n",
    "olimpic_medal[['country_name','gold','silver','bronze']]\n"
   ]
  },
  {
   "cell_type": "code",
   "execution_count": 63,
   "metadata": {
    "collapsed": false
   },
   "outputs": [
    {
     "data": {
      "text/plain": [
       "bronze    1.508148e+09\n",
       "gold      6.000000e+00\n",
       "silver    1.153333e+02\n",
       "dtype: float64"
      ]
     },
     "execution_count": 63,
     "metadata": {},
     "output_type": "execute_result"
    }
   ],
   "source": [
    "olimpic_medal[olimpic_medal.gold>4 ].mean()"
   ]
  },
  {
   "cell_type": "code",
   "execution_count": null,
   "metadata": {
    "collapsed": false
   },
   "outputs": [],
   "source": [
    "'''from sklearn.datasets import load_boston\n",
    "from sklearn import datasets\n",
    "from sklearn import metrics\n",
    "from sklearn.linear_model import LinearRegression\n",
    "housing_data = datasets.load_boston()\n",
    "linear_regression_model = LinearRegression()\n",
    "linear_regression_model.fit(housing_data.data, housing_data.target)\n",
    "predictions = linear_regression_model.predict(housing_data.data)\n",
    "boston = load_boston()\n",
    "print(boston.data.shape)'''\n",
    "\n",
    "import numpy as np\n",
    "X = np.array([[-1, -1], [-2, -1], [-3, -2],[1, 1],  [2, 1], [3, 2],[4,3]])\n",
    "Y = np.array([1, 1,1, 2, 2, 2, 3])\n",
    "from sklearn.naive_bayes import GaussianNB\n",
    "clf = GaussianNB()\n",
    "clf.fit(X, Y)\n",
    "GaussianNB()\n",
    "print(clf.predict([[-0.8, -1]]))\n",
    "\n",
    "from sklearn import cross_validation\n",
    "from sklearn import datasets\n",
    "from sklearn import svm\n",
    "\n",
    "iri = datasets.load_iris()\n",
    "iri.data.shape, iris.target.shape\n",
    "((150, 4), (150,))\n"
   ]
  },
  {
   "cell_type": "code",
   "execution_count": null,
   "metadata": {
    "collapsed": false
   },
   "outputs": [],
   "source": [
    "import matplotlib.pyplot as plt\n",
    "year=[1987,1993,1999,2010,2012]\n",
    "pop=[2.787,3.2423,5.656,8.88,9.00]\n",
    "plt.plot(year,pop)\n",
    "plt.show()"
   ]
  },
  {
   "cell_type": "code",
   "execution_count": null,
   "metadata": {
    "collapsed": true
   },
   "outputs": [],
   "source": []
  }
 ],
 "metadata": {
  "kernelspec": {
   "display_name": "Python 2",
   "language": "python",
   "name": "python2"
  },
  "language_info": {
   "codemirror_mode": {
    "name": "ipython",
    "version": 2
   },
   "file_extension": ".py",
   "mimetype": "text/x-python",
   "name": "python",
   "nbconvert_exporter": "python",
   "pygments_lexer": "ipython2",
   "version": "2.7.13"
  }
 },
 "nbformat": 4,
 "nbformat_minor": 2
}
